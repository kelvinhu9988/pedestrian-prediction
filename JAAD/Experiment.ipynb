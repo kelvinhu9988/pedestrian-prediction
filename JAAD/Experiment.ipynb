{
 "cells": [
  {
   "cell_type": "markdown",
   "metadata": {},
   "source": [
    "**Process pedestrian JSON file**"
   ]
  },
  {
   "cell_type": "code",
   "execution_count": 1,
   "metadata": {},
   "outputs": [],
   "source": [
    "%matplotlib inline  \n",
    "import os\n",
    "import numpy as np\n",
    "from PIL import Image\n",
    "import cv2\n",
    "from matplotlib.pyplot import figure, imshow, savefig\n",
    "import matplotlib.pyplot as plt\n",
    "import collections\n",
    "import os\n",
    "import json"
   ]
  },
  {
   "cell_type": "code",
   "execution_count": 4,
   "metadata": {},
   "outputs": [],
   "source": [
    "fold_dict_filename = 'pedestrian_dataset_folds/fold_dict.json'\n",
    "fold_dict = json.load(open(fold_dict_filename, 'r'))\n",
    "num_frames = 30\n",
    "frames_to_process = set()\n",
    "for json_filename in fold_dict:\n",
    "    json_path = os.path.join(fold_dict[json_filename], json_filename)\n",
    "    ped_json = json.load(open(json_path, 'r'))\n",
    "    video_name = ped_json['video']\n",
    "    first_frame = ped_json['frame_data'][0]\n",
    "    start = first_frame['frame_index']\n",
    "    for idx in range(start, start + num_frames):\n",
    "        frames_to_process.add(video_name + '-' + str(idx))"
   ]
  },
  {
   "cell_type": "code",
   "execution_count": null,
   "metadata": {},
   "outputs": [],
   "source": []
  }
 ],
 "metadata": {
  "kernelspec": {
   "display_name": "Python 3",
   "language": "python",
   "name": "python3"
  },
  "language_info": {
   "codemirror_mode": {
    "name": "ipython",
    "version": 3
   },
   "file_extension": ".py",
   "mimetype": "text/x-python",
   "name": "python",
   "nbconvert_exporter": "python",
   "pygments_lexer": "ipython3",
   "version": "3.6.3"
  }
 },
 "nbformat": 4,
 "nbformat_minor": 2
}
