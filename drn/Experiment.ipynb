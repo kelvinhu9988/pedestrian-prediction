{
 "cells": [
  {
   "cell_type": "code",
   "execution_count": 1,
   "metadata": {},
   "outputs": [],
   "source": [
    "%matplotlib inline  \n",
    "import os\n",
    "import numpy as np\n",
    "from PIL import Image\n",
    "import cv2\n",
    "from matplotlib.pyplot import figure, imshow, savefig\n",
    "import matplotlib.pyplot as plt\n",
    "import collections\n",
    "import os"
   ]
  },
  {
   "cell_type": "code",
   "execution_count": null,
   "metadata": {},
   "outputs": [],
   "source": [
    "data_dir = 'datasets/bdd/seg/labels/val'"
   ]
  },
  {
   "cell_type": "code",
   "execution_count": null,
   "metadata": {},
   "outputs": [],
   "source": [
    "for jpg in os.listdir(data_dir):\n",
    "    image = Image.open(os.path.join(data_dir, jpg))\n",
    "    image = np.array(image)\n",
    "    print(jpg)\n",
    "    print(image.shape)\n",
    "    break"
   ]
  },
  {
   "cell_type": "markdown",
   "metadata": {},
   "source": [
    "**Histogram of Pedestrian Bounding Box**"
   ]
  },
  {
   "cell_type": "code",
   "execution_count": null,
   "metadata": {},
   "outputs": [],
   "source": [
    "sample_img = 'datasets/bdd/seg/presentation/d0109b85-00000000.png'\n",
    "sample_img_color = 'datasets/bdd/seg/presentation/d0109b85-00000000_test_color.png'\n",
    "image = np.array(Image.open(sample_img))\n",
    "image_color = np.array(Image.open(sample_img_color))"
   ]
  },
  {
   "cell_type": "code",
   "execution_count": null,
   "metadata": {},
   "outputs": [],
   "source": [
    "center_x = 420\n",
    "center_y = 570\n",
    "size = 224\n",
    "tl = [center_x - size / 2, center_y - size / 2]\n",
    "bl = [center_x - size / 2, center_y + size / 2]\n",
    "br = [center_x + size / 2, center_y + size / 2]\n",
    "tr = [center_x + size / 2, center_y - size / 2]\n",
    "points = np.array([tl, bl, br, tr], dtype=np.int32)"
   ]
  },
  {
   "cell_type": "code",
   "execution_count": null,
   "metadata": {},
   "outputs": [],
   "source": [
    "line_color = (255, 0, 0)\n",
    "cv2.polylines(image_color, [points], True, line_color, 2)"
   ]
  },
  {
   "cell_type": "code",
   "execution_count": null,
   "metadata": {},
   "outputs": [],
   "source": [
    "figure(figsize=(10, 10))\n",
    "imshow(image_color)\n",
    "savefig(\"bounding_box.png\")"
   ]
  },
  {
   "cell_type": "code",
   "execution_count": null,
   "metadata": {},
   "outputs": [],
   "source": [
    "left_x = int(center_x - size / 2)\n",
    "right_x = int(center_x + size / 2)\n",
    "top_y = int(center_y - size / 2)\n",
    "bottom_y = int(center_y + size / 2)"
   ]
  },
  {
   "cell_type": "code",
   "execution_count": null,
   "metadata": {},
   "outputs": [],
   "source": [
    "labels = {\n",
    "    0: 'road', \n",
    "    1: 'sidewalk',\n",
    "    2: 'building',\n",
    "    3: 'wall',\n",
    "    4: 'fence',\n",
    "    5: 'pole',\n",
    "    6: 'traffic light',\n",
    "    7: 'traffic sign',\n",
    "    8: 'vegetation',\n",
    "    9: 'terrain',\n",
    "    10: 'sky',\n",
    "    11: 'person',\n",
    "    12: 'rider',\n",
    "    13: 'car',\n",
    "    14: 'truck',\n",
    "    15: 'bus',\n",
    "    16: 'train',\n",
    "    17: 'motorcycle',\n",
    "    18: 'bicycle',\n",
    "}\n"
   ]
  },
  {
   "cell_type": "code",
   "execution_count": null,
   "metadata": {},
   "outputs": [],
   "source": [
    "histogram = {}\n",
    "for key in labels.keys():\n",
    "    histogram[key] = 0\n",
    "for y in range(top_y, bottom_y):\n",
    "    for x in range(left_x, right_x):\n",
    "        if image[y, x] in histogram:\n",
    "            histogram[image[y, x]] += 1\n",
    "names = []\n",
    "values = []\n",
    "for key in sorted(histogram.keys()):\n",
    "    names.append(labels[key])\n",
    "    values.append(histogram[key])\n",
    "figure(figsize=(20, 10))\n",
    "plt.title(\"Histogram of bounding box\")\n",
    "plt.xlabel(\"Class Name\")\n",
    "plt.ylabel(\"Count\")\n",
    "plt.bar(names, values)\n",
    "savefig(\"histogram_bounding_box.png\")"
   ]
  },
  {
   "cell_type": "markdown",
   "metadata": {},
   "source": [
    "**Mapillary**"
   ]
  },
  {
   "cell_type": "code",
   "execution_count": null,
   "metadata": {},
   "outputs": [],
   "source": [
    "sample_instance = 'datasets/mapillary/grDzFDON_vntlJOAKJx7qA_instance.png'\n",
    "sample_label = 'datasets/mapillary/grDzFDON_vntlJOAKJx7qA_label.png'\n",
    "sample_panoptic = 'datasets/mapillary/grDzFDON_vntlJOAKJx7qA_panoptic.png'\n",
    "img_instance = np.array(Image.open(sample_instance))\n",
    "img_label = np.array(Image.open(sample_label))\n",
    "img_panoptic = np.array(Image.open(sample_panoptic))"
   ]
  },
  {
   "cell_type": "markdown",
   "metadata": {},
   "source": [
    "What is stored in an instance map: 8 bits of object ids + 8 bits of instance ids"
   ]
  },
  {
   "cell_type": "code",
   "execution_count": 2,
   "metadata": {},
   "outputs": [],
   "source": [
    "train_images_dir = 'datasets/mapillary/training/images'\n",
    "train_labels_dir = 'datasets/mapillary/training/train_ids'\n",
    "val_images_dir = 'datasets/mapillary/validation/images'\n",
    "val_labels_dir = 'datasets/mapillary/validation/train_ids'\n",
    "test_images_dir = 'datasets/mapillary/testing/images'\n",
    "train_images = os.listdir(train_images_dir)\n",
    "val_images = os.listdir(val_images_dir)"
   ]
  },
  {
   "cell_type": "code",
   "execution_count": null,
   "metadata": {},
   "outputs": [],
   "source": [
    "print(\"Test training...\")\n",
    "for jpg in train_images:\n",
    "    image = Image.open(os.path.join(train_images_dir, jpg))\n",
    "    label = Image.open(os.path.join(train_labels_dir, jpg.split('.')[0] + '.png'))\n",
    "    if image.width != label.width or image.height != label.height: \n",
    "        print(\"Image:\", image.width)\n",
    "        print(\"Label:\", label.width)\n",
    "\n",
    "print(\"Test validation...\")\n",
    "for jpg in val_images:\n",
    "    image = Image.open(os.path.join(val_images_dir, jpg))\n",
    "    label = Image.open(os.path.join(val_labels_dir, jpg.split('.')[0] + '.png'))\n",
    "    if image.width != label.width or image.height != label.height: \n",
    "        print(\"Image:\", image.width)\n",
    "        print(\"Label:\", label.width)\n",
    "print(\"Finish test!\")"
   ]
  },
  {
   "cell_type": "markdown",
   "metadata": {},
   "source": [
    "Filter out images that do not have enough crosswalk pixels\n",
    "\n",
    "After applying threshold, we are able to generate: \n",
    "\n",
    "485 crosswalk masks in training. 53 crosswalk masks in validation."
   ]
  },
  {
   "cell_type": "code",
   "execution_count": 16,
   "metadata": {},
   "outputs": [
    {
     "ename": "KeyboardInterrupt",
     "evalue": "",
     "output_type": "error",
     "traceback": [
      "\u001b[0;31m---------------------------------------------------------------------------\u001b[0m",
      "\u001b[0;31mAttributeError\u001b[0m                            Traceback (most recent call last)",
      "\u001b[0;32m~/anaconda3/lib/python3.6/site-packages/PIL/ImageFile.py\u001b[0m in \u001b[0;36m_save\u001b[0;34m(im, fp, tile, bufsize)\u001b[0m\n\u001b[1;32m    463\u001b[0m     \u001b[0;32mtry\u001b[0m\u001b[0;34m:\u001b[0m\u001b[0;34m\u001b[0m\u001b[0m\n\u001b[0;32m--> 464\u001b[0;31m         \u001b[0mfh\u001b[0m \u001b[0;34m=\u001b[0m \u001b[0mfp\u001b[0m\u001b[0;34m.\u001b[0m\u001b[0mfileno\u001b[0m\u001b[0;34m(\u001b[0m\u001b[0;34m)\u001b[0m\u001b[0;34m\u001b[0m\u001b[0m\n\u001b[0m\u001b[1;32m    465\u001b[0m         \u001b[0mfp\u001b[0m\u001b[0;34m.\u001b[0m\u001b[0mflush\u001b[0m\u001b[0;34m(\u001b[0m\u001b[0;34m)\u001b[0m\u001b[0;34m\u001b[0m\u001b[0m\n",
      "\u001b[0;31mAttributeError\u001b[0m: '_idat' object has no attribute 'fileno'",
      "\nDuring handling of the above exception, another exception occurred:\n",
      "\u001b[0;31mKeyboardInterrupt\u001b[0m                         Traceback (most recent call last)",
      "\u001b[0;32m<ipython-input-16-a61fd825d41f>\u001b[0m in \u001b[0;36m<module>\u001b[0;34m()\u001b[0m\n\u001b[1;32m     16\u001b[0m     \u001b[0moutput_image\u001b[0m \u001b[0;34m=\u001b[0m \u001b[0mImage\u001b[0m\u001b[0;34m.\u001b[0m\u001b[0mfromarray\u001b[0m\u001b[0;34m(\u001b[0m\u001b[0moutput_image\u001b[0m\u001b[0;34m)\u001b[0m\u001b[0;34m\u001b[0m\u001b[0m\n\u001b[1;32m     17\u001b[0m     \u001b[0moutput_path\u001b[0m \u001b[0;34m=\u001b[0m \u001b[0mos\u001b[0m\u001b[0;34m.\u001b[0m\u001b[0mpath\u001b[0m\u001b[0;34m.\u001b[0m\u001b[0mjoin\u001b[0m\u001b[0;34m(\u001b[0m\u001b[0mtrain_output_dir\u001b[0m\u001b[0;34m,\u001b[0m \u001b[0mjpg\u001b[0m\u001b[0;34m)\u001b[0m\u001b[0;34m\u001b[0m\u001b[0m\n\u001b[0;32m---> 18\u001b[0;31m     \u001b[0moutput_image\u001b[0m\u001b[0;34m.\u001b[0m\u001b[0msave\u001b[0m\u001b[0;34m(\u001b[0m\u001b[0moutput_path\u001b[0m\u001b[0;34m)\u001b[0m\u001b[0;34m\u001b[0m\u001b[0m\n\u001b[0m",
      "\u001b[0;32m~/anaconda3/lib/python3.6/site-packages/PIL/Image.py\u001b[0m in \u001b[0;36msave\u001b[0;34m(self, fp, format, **params)\u001b[0m\n\u001b[1;32m   1891\u001b[0m \u001b[0;34m\u001b[0m\u001b[0m\n\u001b[1;32m   1892\u001b[0m         \u001b[0;32mtry\u001b[0m\u001b[0;34m:\u001b[0m\u001b[0;34m\u001b[0m\u001b[0m\n\u001b[0;32m-> 1893\u001b[0;31m             \u001b[0msave_handler\u001b[0m\u001b[0;34m(\u001b[0m\u001b[0mself\u001b[0m\u001b[0;34m,\u001b[0m \u001b[0mfp\u001b[0m\u001b[0;34m,\u001b[0m \u001b[0mfilename\u001b[0m\u001b[0;34m)\u001b[0m\u001b[0;34m\u001b[0m\u001b[0m\n\u001b[0m\u001b[1;32m   1894\u001b[0m         \u001b[0;32mfinally\u001b[0m\u001b[0;34m:\u001b[0m\u001b[0;34m\u001b[0m\u001b[0m\n\u001b[1;32m   1895\u001b[0m             \u001b[0;31m# do what we can to clean up\u001b[0m\u001b[0;34m\u001b[0m\u001b[0;34m\u001b[0m\u001b[0m\n",
      "\u001b[0;32m~/anaconda3/lib/python3.6/site-packages/PIL/PngImagePlugin.py\u001b[0m in \u001b[0;36m_save\u001b[0;34m(im, fp, filename, chunk, check)\u001b[0m\n\u001b[1;32m    794\u001b[0m \u001b[0;34m\u001b[0m\u001b[0m\n\u001b[1;32m    795\u001b[0m     ImageFile._save(im, _idat(fp, chunk),\n\u001b[0;32m--> 796\u001b[0;31m                     [(\"zip\", (0, 0)+im.size, 0, rawmode)])\n\u001b[0m\u001b[1;32m    797\u001b[0m \u001b[0;34m\u001b[0m\u001b[0m\n\u001b[1;32m    798\u001b[0m     \u001b[0mchunk\u001b[0m\u001b[0;34m(\u001b[0m\u001b[0mfp\u001b[0m\u001b[0;34m,\u001b[0m \u001b[0;34mb\"IEND\"\u001b[0m\u001b[0;34m,\u001b[0m \u001b[0;34mb\"\"\u001b[0m\u001b[0;34m)\u001b[0m\u001b[0;34m\u001b[0m\u001b[0m\n",
      "\u001b[0;32m~/anaconda3/lib/python3.6/site-packages/PIL/ImageFile.py\u001b[0m in \u001b[0;36m_save\u001b[0;34m(im, fp, tile, bufsize)\u001b[0m\n\u001b[1;32m    476\u001b[0m             \u001b[0;32melse\u001b[0m\u001b[0;34m:\u001b[0m\u001b[0;34m\u001b[0m\u001b[0m\n\u001b[1;32m    477\u001b[0m                 \u001b[0;32mwhile\u001b[0m \u001b[0;32mTrue\u001b[0m\u001b[0;34m:\u001b[0m\u001b[0;34m\u001b[0m\u001b[0m\n\u001b[0;32m--> 478\u001b[0;31m                     \u001b[0ml\u001b[0m\u001b[0;34m,\u001b[0m \u001b[0ms\u001b[0m\u001b[0;34m,\u001b[0m \u001b[0md\u001b[0m \u001b[0;34m=\u001b[0m \u001b[0me\u001b[0m\u001b[0;34m.\u001b[0m\u001b[0mencode\u001b[0m\u001b[0;34m(\u001b[0m\u001b[0mbufsize\u001b[0m\u001b[0;34m)\u001b[0m\u001b[0;34m\u001b[0m\u001b[0m\n\u001b[0m\u001b[1;32m    479\u001b[0m                     \u001b[0mfp\u001b[0m\u001b[0;34m.\u001b[0m\u001b[0mwrite\u001b[0m\u001b[0;34m(\u001b[0m\u001b[0md\u001b[0m\u001b[0;34m)\u001b[0m\u001b[0;34m\u001b[0m\u001b[0m\n\u001b[1;32m    480\u001b[0m                     \u001b[0;32mif\u001b[0m \u001b[0ms\u001b[0m\u001b[0;34m:\u001b[0m\u001b[0;34m\u001b[0m\u001b[0m\n",
      "\u001b[0;31mKeyboardInterrupt\u001b[0m: "
     ]
    }
   ],
   "source": [
    "train_labels = os.listdir(train_labels_dir)\n",
    "val_labels = os.listdir(val_labels_dir)\n",
    "train_output_dir = 'datasets/mapillary/training/train_ids_color'\n",
    "val_output_dir = 'datasets/mapillary/validation/train_ids_color'\n",
    "\n",
    "\n",
    "DUO_PALETTE = np.array([\n",
    "    [217, 83, 79],\n",
    "    [0, 0, 0]], dtype=np.uint8)\n",
    "\n",
    "for filename in train_labels:\n",
    "    image = np.array(Image.open(os.path.join(train_labels_dir, jpg)))\n",
    "    output_image = np.zeros((image.shape[0], image.shape[1], 3), dtype=np.uint8)\n",
    "    output_image[image == 0] = DUO_PALETTE[0]\n",
    "    output_image[image == 1] = DUO_PALETTE[1]\n",
    "    output_image = Image.fromarray(output_image)\n",
    "    output_path = os.path.join(train_output_dir, filename)\n",
    "    output_image.save(output_path)"
   ]
  },
  {
   "cell_type": "code",
   "execution_count": null,
   "metadata": {},
   "outputs": [],
   "source": [
    "for filename in val_labels:\n",
    "    image = np.array(Image.open(os.path.join(val_labels_dir, jpg)))\n",
    "    output_image = np.zeros((image.shape[0], image.shape[1], 3), dtype=np.uint8)\n",
    "    output_image[image == 0] = DUO_PALETTE[0]\n",
    "    output_image[image == 1] = DUO_PALETTE[1]\n",
    "    output_image = Image.fromarray(output_image)\n",
    "    output_path = os.path.join(val_output_dir, filename)\n",
    "    output_image.save(output_path)"
   ]
  }
 ],
 "metadata": {
  "kernelspec": {
   "display_name": "Python 3",
   "language": "python",
   "name": "python3"
  },
  "language_info": {
   "codemirror_mode": {
    "name": "ipython",
    "version": 3
   },
   "file_extension": ".py",
   "mimetype": "text/x-python",
   "name": "python",
   "nbconvert_exporter": "python",
   "pygments_lexer": "ipython3",
   "version": "3.6.3"
  }
 },
 "nbformat": 4,
 "nbformat_minor": 2
}
